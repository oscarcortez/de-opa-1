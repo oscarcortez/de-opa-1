{
  "cells": [
    {
      "cell_type": "markdown",
      "metadata": {
        "id": "view-in-github",
        "colab_type": "text"
      },
      "source": [
        "<a href=\"https://colab.research.google.com/github/oscarcortez/de-opa-1/blob/main/v2_criptocoin_bitcoin_oscar.ipynb\" target=\"_parent\"><img src=\"https://colab.research.google.com/assets/colab-badge.svg\" alt=\"Open In Colab\"/></a>"
      ]
    },
    {
      "cell_type": "code",
      "execution_count": null,
      "id": "060c4d8e",
      "metadata": {
        "id": "060c4d8e"
      },
      "outputs": [],
      "source": [
        "# !pip install python-binance"
      ]
    },
    {
      "cell_type": "code",
      "execution_count": null,
      "id": "11d4a2fc",
      "metadata": {
        "id": "11d4a2fc"
      },
      "outputs": [],
      "source": [
        "#!pip install PyYAML"
      ]
    },
    {
      "cell_type": "code",
      "execution_count": null,
      "id": "6408e14d",
      "metadata": {
        "id": "6408e14d"
      },
      "outputs": [],
      "source": [
        "import pandas as pd\n",
        "import pandas as pd\n",
        "from matplotlib import pyplot as plt\n",
        "import seaborn as sns\n",
        "from datetime import datetime, timedelta\n",
        "import yaml"
      ]
    },
    {
      "cell_type": "code",
      "execution_count": null,
      "id": "8d81688a",
      "metadata": {
        "id": "8d81688a"
      },
      "outputs": [],
      "source": [
        "from binance import Client, ThreadedWebsocketManager, ThreadedDepthCacheManager\n",
        "\n",
        "# you need to create secrets.yaml file like this:\n",
        "'''\n",
        "binance:\n",
        "  api_key: your_api_key\n",
        "  api_secret: your_api_secret\n",
        "'''\n",
        "\n",
        "with open('secrets.yaml', 'r') as file:\n",
        "  secrets_data = yaml.safe_load(file)\n",
        "api_key = secrets_data['binance']['api_key']\n",
        "api_secret = secrets_data['binance']['api_secret']\n",
        "\n",
        "client = Client(api_key, api_secret)"
      ]
    },
    {
      "cell_type": "code",
      "execution_count": null,
      "id": "c46706cf",
      "metadata": {
        "id": "c46706cf",
        "outputId": "6e05447b-4754-4feb-8755-2e0104f280fb"
      },
      "outputs": [
        {
          "data": {
            "text/html": [
              "<div>\n",
              "<style scoped>\n",
              "    .dataframe tbody tr th:only-of-type {\n",
              "        vertical-align: middle;\n",
              "    }\n",
              "\n",
              "    .dataframe tbody tr th {\n",
              "        vertical-align: top;\n",
              "    }\n",
              "\n",
              "    .dataframe thead th {\n",
              "        text-align: right;\n",
              "    }\n",
              "</style>\n",
              "<table border=\"1\" class=\"dataframe\">\n",
              "  <thead>\n",
              "    <tr style=\"text-align: right;\">\n",
              "      <th></th>\n",
              "      <th>0</th>\n",
              "      <th>1</th>\n",
              "      <th>2</th>\n",
              "      <th>3</th>\n",
              "      <th>4</th>\n",
              "      <th>5</th>\n",
              "      <th>6</th>\n",
              "      <th>7</th>\n",
              "      <th>8</th>\n",
              "      <th>9</th>\n",
              "      <th>10</th>\n",
              "      <th>11</th>\n",
              "    </tr>\n",
              "  </thead>\n",
              "  <tbody>\n",
              "    <tr>\n",
              "      <th>0</th>\n",
              "      <td>1691500200000</td>\n",
              "      <td>29538.98000000</td>\n",
              "      <td>29597.09000000</td>\n",
              "      <td>29532.60000000</td>\n",
              "      <td>29578.00000000</td>\n",
              "      <td>224.45096000</td>\n",
              "      <td>1691500499999</td>\n",
              "      <td>6638175.00900270</td>\n",
              "      <td>4397</td>\n",
              "      <td>130.43140000</td>\n",
              "      <td>3857248.53587710</td>\n",
              "      <td>0</td>\n",
              "    </tr>\n",
              "    <tr>\n",
              "      <th>1</th>\n",
              "      <td>1691500500000</td>\n",
              "      <td>29578.00000000</td>\n",
              "      <td>29621.97000000</td>\n",
              "      <td>29577.99000000</td>\n",
              "      <td>29607.99000000</td>\n",
              "      <td>236.92063000</td>\n",
              "      <td>1691500799999</td>\n",
              "      <td>7014883.60759600</td>\n",
              "      <td>4473</td>\n",
              "      <td>130.95497000</td>\n",
              "      <td>3877185.82452200</td>\n",
              "      <td>0</td>\n",
              "    </tr>\n",
              "    <tr>\n",
              "      <th>2</th>\n",
              "      <td>1691500800000</td>\n",
              "      <td>29607.98000000</td>\n",
              "      <td>29607.99000000</td>\n",
              "      <td>29531.76000000</td>\n",
              "      <td>29548.68000000</td>\n",
              "      <td>420.70614000</td>\n",
              "      <td>1691501099999</td>\n",
              "      <td>12431936.86157450</td>\n",
              "      <td>5708</td>\n",
              "      <td>207.96732000</td>\n",
              "      <td>6144359.37345920</td>\n",
              "      <td>0</td>\n",
              "    </tr>\n",
              "    <tr>\n",
              "      <th>3</th>\n",
              "      <td>1691501100000</td>\n",
              "      <td>29548.67000000</td>\n",
              "      <td>29565.51000000</td>\n",
              "      <td>29472.60000000</td>\n",
              "      <td>29494.01000000</td>\n",
              "      <td>616.64537000</td>\n",
              "      <td>1691501399999</td>\n",
              "      <td>18197383.17247820</td>\n",
              "      <td>9340</td>\n",
              "      <td>260.07193000</td>\n",
              "      <td>7675034.98996430</td>\n",
              "      <td>0</td>\n",
              "    </tr>\n",
              "    <tr>\n",
              "      <th>4</th>\n",
              "      <td>1691501400000</td>\n",
              "      <td>29494.01000000</td>\n",
              "      <td>29513.69000000</td>\n",
              "      <td>29430.56000000</td>\n",
              "      <td>29446.81000000</td>\n",
              "      <td>585.17546000</td>\n",
              "      <td>1691501699999</td>\n",
              "      <td>17244645.71573040</td>\n",
              "      <td>9899</td>\n",
              "      <td>218.23969000</td>\n",
              "      <td>6430920.95579060</td>\n",
              "      <td>0</td>\n",
              "    </tr>\n",
              "    <tr>\n",
              "      <th>...</th>\n",
              "      <td>...</td>\n",
              "      <td>...</td>\n",
              "      <td>...</td>\n",
              "      <td>...</td>\n",
              "      <td>...</td>\n",
              "      <td>...</td>\n",
              "      <td>...</td>\n",
              "      <td>...</td>\n",
              "      <td>...</td>\n",
              "      <td>...</td>\n",
              "      <td>...</td>\n",
              "      <td>...</td>\n",
              "    </tr>\n",
              "    <tr>\n",
              "      <th>283</th>\n",
              "      <td>1691585100000</td>\n",
              "      <td>29949.01000000</td>\n",
              "      <td>30000.00000000</td>\n",
              "      <td>29949.01000000</td>\n",
              "      <td>29986.36000000</td>\n",
              "      <td>292.23440000</td>\n",
              "      <td>1691585399999</td>\n",
              "      <td>8761870.56073780</td>\n",
              "      <td>7076</td>\n",
              "      <td>188.49371000</td>\n",
              "      <td>5651346.48538860</td>\n",
              "      <td>0</td>\n",
              "    </tr>\n",
              "    <tr>\n",
              "      <th>284</th>\n",
              "      <td>1691585400000</td>\n",
              "      <td>29986.35000000</td>\n",
              "      <td>30037.71000000</td>\n",
              "      <td>29980.00000000</td>\n",
              "      <td>29997.65000000</td>\n",
              "      <td>382.71958000</td>\n",
              "      <td>1691585699999</td>\n",
              "      <td>11484776.09863280</td>\n",
              "      <td>7852</td>\n",
              "      <td>222.70389000</td>\n",
              "      <td>6682792.51962990</td>\n",
              "      <td>0</td>\n",
              "    </tr>\n",
              "    <tr>\n",
              "      <th>285</th>\n",
              "      <td>1691585700000</td>\n",
              "      <td>29997.65000000</td>\n",
              "      <td>30094.40000000</td>\n",
              "      <td>29986.01000000</td>\n",
              "      <td>30076.32000000</td>\n",
              "      <td>454.74458000</td>\n",
              "      <td>1691585999999</td>\n",
              "      <td>13666390.56647770</td>\n",
              "      <td>9316</td>\n",
              "      <td>299.98897000</td>\n",
              "      <td>9015343.68798670</td>\n",
              "      <td>0</td>\n",
              "    </tr>\n",
              "    <tr>\n",
              "      <th>286</th>\n",
              "      <td>1691586000000</td>\n",
              "      <td>30076.33000000</td>\n",
              "      <td>30160.00000000</td>\n",
              "      <td>29986.06000000</td>\n",
              "      <td>30016.51000000</td>\n",
              "      <td>882.88247000</td>\n",
              "      <td>1691586299999</td>\n",
              "      <td>26546811.87612050</td>\n",
              "      <td>15721</td>\n",
              "      <td>604.30381000</td>\n",
              "      <td>18173145.07718920</td>\n",
              "      <td>0</td>\n",
              "    </tr>\n",
              "    <tr>\n",
              "      <th>287</th>\n",
              "      <td>1691586300000</td>\n",
              "      <td>30016.52000000</td>\n",
              "      <td>30067.65000000</td>\n",
              "      <td>30013.28000000</td>\n",
              "      <td>30038.00000000</td>\n",
              "      <td>421.20259000</td>\n",
              "      <td>1691586599999</td>\n",
              "      <td>12650166.76945990</td>\n",
              "      <td>6043</td>\n",
              "      <td>287.25296000</td>\n",
              "      <td>8626455.62997420</td>\n",
              "      <td>0</td>\n",
              "    </tr>\n",
              "  </tbody>\n",
              "</table>\n",
              "<p>288 rows × 12 columns</p>\n",
              "</div>"
            ],
            "text/plain": [
              "                0               1               2               3   \\\n",
              "0    1691500200000  29538.98000000  29597.09000000  29532.60000000   \n",
              "1    1691500500000  29578.00000000  29621.97000000  29577.99000000   \n",
              "2    1691500800000  29607.98000000  29607.99000000  29531.76000000   \n",
              "3    1691501100000  29548.67000000  29565.51000000  29472.60000000   \n",
              "4    1691501400000  29494.01000000  29513.69000000  29430.56000000   \n",
              "..             ...             ...             ...             ...   \n",
              "283  1691585100000  29949.01000000  30000.00000000  29949.01000000   \n",
              "284  1691585400000  29986.35000000  30037.71000000  29980.00000000   \n",
              "285  1691585700000  29997.65000000  30094.40000000  29986.01000000   \n",
              "286  1691586000000  30076.33000000  30160.00000000  29986.06000000   \n",
              "287  1691586300000  30016.52000000  30067.65000000  30013.28000000   \n",
              "\n",
              "                 4             5              6                  7      8   \\\n",
              "0    29578.00000000  224.45096000  1691500499999   6638175.00900270   4397   \n",
              "1    29607.99000000  236.92063000  1691500799999   7014883.60759600   4473   \n",
              "2    29548.68000000  420.70614000  1691501099999  12431936.86157450   5708   \n",
              "3    29494.01000000  616.64537000  1691501399999  18197383.17247820   9340   \n",
              "4    29446.81000000  585.17546000  1691501699999  17244645.71573040   9899   \n",
              "..              ...           ...            ...                ...    ...   \n",
              "283  29986.36000000  292.23440000  1691585399999   8761870.56073780   7076   \n",
              "284  29997.65000000  382.71958000  1691585699999  11484776.09863280   7852   \n",
              "285  30076.32000000  454.74458000  1691585999999  13666390.56647770   9316   \n",
              "286  30016.51000000  882.88247000  1691586299999  26546811.87612050  15721   \n",
              "287  30038.00000000  421.20259000  1691586599999  12650166.76945990   6043   \n",
              "\n",
              "               9                  10 11  \n",
              "0    130.43140000   3857248.53587710  0  \n",
              "1    130.95497000   3877185.82452200  0  \n",
              "2    207.96732000   6144359.37345920  0  \n",
              "3    260.07193000   7675034.98996430  0  \n",
              "4    218.23969000   6430920.95579060  0  \n",
              "..            ...                ... ..  \n",
              "283  188.49371000   5651346.48538860  0  \n",
              "284  222.70389000   6682792.51962990  0  \n",
              "285  299.98897000   9015343.68798670  0  \n",
              "286  604.30381000  18173145.07718920  0  \n",
              "287  287.25296000   8626455.62997420  0  \n",
              "\n",
              "[288 rows x 12 columns]"
            ]
          },
          "execution_count": 51,
          "metadata": {},
          "output_type": "execute_result"
        }
      ],
      "source": [
        "# I chose 'every 5 minute' because less than that the line chart has many spikes and its not interpretable\n",
        "data = client.get_historical_klines(\"BTCUSDT\", Client.KLINE_INTERVAL_5MINUTE, \"1 day ago UTC\")\n",
        "df_data = pd.DataFrame(data)\n",
        "df_data"
      ]
    },
    {
      "cell_type": "code",
      "execution_count": null,
      "id": "88e80c38",
      "metadata": {
        "id": "88e80c38",
        "outputId": "cc470c50-562b-4d5d-8ad0-84e6a1cd2a78"
      },
      "outputs": [
        {
          "data": {
            "text/html": [
              "<div>\n",
              "<style scoped>\n",
              "    .dataframe tbody tr th:only-of-type {\n",
              "        vertical-align: middle;\n",
              "    }\n",
              "\n",
              "    .dataframe tbody tr th {\n",
              "        vertical-align: top;\n",
              "    }\n",
              "\n",
              "    .dataframe thead th {\n",
              "        text-align: right;\n",
              "    }\n",
              "</style>\n",
              "<table border=\"1\" class=\"dataframe\">\n",
              "  <thead>\n",
              "    <tr style=\"text-align: right;\">\n",
              "      <th></th>\n",
              "      <th>0</th>\n",
              "      <th>1</th>\n",
              "      <th>2</th>\n",
              "      <th>3</th>\n",
              "      <th>4</th>\n",
              "      <th>5</th>\n",
              "      <th>6</th>\n",
              "      <th>7</th>\n",
              "      <th>8</th>\n",
              "      <th>9</th>\n",
              "      <th>10</th>\n",
              "      <th>11</th>\n",
              "    </tr>\n",
              "  </thead>\n",
              "  <tbody>\n",
              "    <tr>\n",
              "      <th>0</th>\n",
              "      <td>2023-08-08 13:10:00</td>\n",
              "      <td>29538.98000000</td>\n",
              "      <td>29597.09000000</td>\n",
              "      <td>29532.60000000</td>\n",
              "      <td>29578.00000000</td>\n",
              "      <td>224.45096000</td>\n",
              "      <td>1691500499999</td>\n",
              "      <td>6638175.00900270</td>\n",
              "      <td>4397</td>\n",
              "      <td>130.43140000</td>\n",
              "      <td>3857248.53587710</td>\n",
              "      <td>0</td>\n",
              "    </tr>\n",
              "    <tr>\n",
              "      <th>1</th>\n",
              "      <td>2023-08-08 13:15:00</td>\n",
              "      <td>29578.00000000</td>\n",
              "      <td>29621.97000000</td>\n",
              "      <td>29577.99000000</td>\n",
              "      <td>29607.99000000</td>\n",
              "      <td>236.92063000</td>\n",
              "      <td>1691500799999</td>\n",
              "      <td>7014883.60759600</td>\n",
              "      <td>4473</td>\n",
              "      <td>130.95497000</td>\n",
              "      <td>3877185.82452200</td>\n",
              "      <td>0</td>\n",
              "    </tr>\n",
              "    <tr>\n",
              "      <th>2</th>\n",
              "      <td>2023-08-08 13:20:00</td>\n",
              "      <td>29607.98000000</td>\n",
              "      <td>29607.99000000</td>\n",
              "      <td>29531.76000000</td>\n",
              "      <td>29548.68000000</td>\n",
              "      <td>420.70614000</td>\n",
              "      <td>1691501099999</td>\n",
              "      <td>12431936.86157450</td>\n",
              "      <td>5708</td>\n",
              "      <td>207.96732000</td>\n",
              "      <td>6144359.37345920</td>\n",
              "      <td>0</td>\n",
              "    </tr>\n",
              "    <tr>\n",
              "      <th>3</th>\n",
              "      <td>2023-08-08 13:25:00</td>\n",
              "      <td>29548.67000000</td>\n",
              "      <td>29565.51000000</td>\n",
              "      <td>29472.60000000</td>\n",
              "      <td>29494.01000000</td>\n",
              "      <td>616.64537000</td>\n",
              "      <td>1691501399999</td>\n",
              "      <td>18197383.17247820</td>\n",
              "      <td>9340</td>\n",
              "      <td>260.07193000</td>\n",
              "      <td>7675034.98996430</td>\n",
              "      <td>0</td>\n",
              "    </tr>\n",
              "    <tr>\n",
              "      <th>4</th>\n",
              "      <td>2023-08-08 13:30:00</td>\n",
              "      <td>29494.01000000</td>\n",
              "      <td>29513.69000000</td>\n",
              "      <td>29430.56000000</td>\n",
              "      <td>29446.81000000</td>\n",
              "      <td>585.17546000</td>\n",
              "      <td>1691501699999</td>\n",
              "      <td>17244645.71573040</td>\n",
              "      <td>9899</td>\n",
              "      <td>218.23969000</td>\n",
              "      <td>6430920.95579060</td>\n",
              "      <td>0</td>\n",
              "    </tr>\n",
              "    <tr>\n",
              "      <th>...</th>\n",
              "      <td>...</td>\n",
              "      <td>...</td>\n",
              "      <td>...</td>\n",
              "      <td>...</td>\n",
              "      <td>...</td>\n",
              "      <td>...</td>\n",
              "      <td>...</td>\n",
              "      <td>...</td>\n",
              "      <td>...</td>\n",
              "      <td>...</td>\n",
              "      <td>...</td>\n",
              "      <td>...</td>\n",
              "    </tr>\n",
              "    <tr>\n",
              "      <th>283</th>\n",
              "      <td>2023-08-09 12:45:00</td>\n",
              "      <td>29949.01000000</td>\n",
              "      <td>30000.00000000</td>\n",
              "      <td>29949.01000000</td>\n",
              "      <td>29986.36000000</td>\n",
              "      <td>292.23440000</td>\n",
              "      <td>1691585399999</td>\n",
              "      <td>8761870.56073780</td>\n",
              "      <td>7076</td>\n",
              "      <td>188.49371000</td>\n",
              "      <td>5651346.48538860</td>\n",
              "      <td>0</td>\n",
              "    </tr>\n",
              "    <tr>\n",
              "      <th>284</th>\n",
              "      <td>2023-08-09 12:50:00</td>\n",
              "      <td>29986.35000000</td>\n",
              "      <td>30037.71000000</td>\n",
              "      <td>29980.00000000</td>\n",
              "      <td>29997.65000000</td>\n",
              "      <td>382.71958000</td>\n",
              "      <td>1691585699999</td>\n",
              "      <td>11484776.09863280</td>\n",
              "      <td>7852</td>\n",
              "      <td>222.70389000</td>\n",
              "      <td>6682792.51962990</td>\n",
              "      <td>0</td>\n",
              "    </tr>\n",
              "    <tr>\n",
              "      <th>285</th>\n",
              "      <td>2023-08-09 12:55:00</td>\n",
              "      <td>29997.65000000</td>\n",
              "      <td>30094.40000000</td>\n",
              "      <td>29986.01000000</td>\n",
              "      <td>30076.32000000</td>\n",
              "      <td>454.74458000</td>\n",
              "      <td>1691585999999</td>\n",
              "      <td>13666390.56647770</td>\n",
              "      <td>9316</td>\n",
              "      <td>299.98897000</td>\n",
              "      <td>9015343.68798670</td>\n",
              "      <td>0</td>\n",
              "    </tr>\n",
              "    <tr>\n",
              "      <th>286</th>\n",
              "      <td>2023-08-09 13:00:00</td>\n",
              "      <td>30076.33000000</td>\n",
              "      <td>30160.00000000</td>\n",
              "      <td>29986.06000000</td>\n",
              "      <td>30016.51000000</td>\n",
              "      <td>882.88247000</td>\n",
              "      <td>1691586299999</td>\n",
              "      <td>26546811.87612050</td>\n",
              "      <td>15721</td>\n",
              "      <td>604.30381000</td>\n",
              "      <td>18173145.07718920</td>\n",
              "      <td>0</td>\n",
              "    </tr>\n",
              "    <tr>\n",
              "      <th>287</th>\n",
              "      <td>2023-08-09 13:05:00</td>\n",
              "      <td>30016.52000000</td>\n",
              "      <td>30067.65000000</td>\n",
              "      <td>30013.28000000</td>\n",
              "      <td>30038.00000000</td>\n",
              "      <td>421.20259000</td>\n",
              "      <td>1691586599999</td>\n",
              "      <td>12650166.76945990</td>\n",
              "      <td>6043</td>\n",
              "      <td>287.25296000</td>\n",
              "      <td>8626455.62997420</td>\n",
              "      <td>0</td>\n",
              "    </tr>\n",
              "  </tbody>\n",
              "</table>\n",
              "<p>288 rows × 12 columns</p>\n",
              "</div>"
            ],
            "text/plain": [
              "                     0               1               2               3   \\\n",
              "0   2023-08-08 13:10:00  29538.98000000  29597.09000000  29532.60000000   \n",
              "1   2023-08-08 13:15:00  29578.00000000  29621.97000000  29577.99000000   \n",
              "2   2023-08-08 13:20:00  29607.98000000  29607.99000000  29531.76000000   \n",
              "3   2023-08-08 13:25:00  29548.67000000  29565.51000000  29472.60000000   \n",
              "4   2023-08-08 13:30:00  29494.01000000  29513.69000000  29430.56000000   \n",
              "..                  ...             ...             ...             ...   \n",
              "283 2023-08-09 12:45:00  29949.01000000  30000.00000000  29949.01000000   \n",
              "284 2023-08-09 12:50:00  29986.35000000  30037.71000000  29980.00000000   \n",
              "285 2023-08-09 12:55:00  29997.65000000  30094.40000000  29986.01000000   \n",
              "286 2023-08-09 13:00:00  30076.33000000  30160.00000000  29986.06000000   \n",
              "287 2023-08-09 13:05:00  30016.52000000  30067.65000000  30013.28000000   \n",
              "\n",
              "                 4             5              6                  7      8   \\\n",
              "0    29578.00000000  224.45096000  1691500499999   6638175.00900270   4397   \n",
              "1    29607.99000000  236.92063000  1691500799999   7014883.60759600   4473   \n",
              "2    29548.68000000  420.70614000  1691501099999  12431936.86157450   5708   \n",
              "3    29494.01000000  616.64537000  1691501399999  18197383.17247820   9340   \n",
              "4    29446.81000000  585.17546000  1691501699999  17244645.71573040   9899   \n",
              "..              ...           ...            ...                ...    ...   \n",
              "283  29986.36000000  292.23440000  1691585399999   8761870.56073780   7076   \n",
              "284  29997.65000000  382.71958000  1691585699999  11484776.09863280   7852   \n",
              "285  30076.32000000  454.74458000  1691585999999  13666390.56647770   9316   \n",
              "286  30016.51000000  882.88247000  1691586299999  26546811.87612050  15721   \n",
              "287  30038.00000000  421.20259000  1691586599999  12650166.76945990   6043   \n",
              "\n",
              "               9                  10 11  \n",
              "0    130.43140000   3857248.53587710  0  \n",
              "1    130.95497000   3877185.82452200  0  \n",
              "2    207.96732000   6144359.37345920  0  \n",
              "3    260.07193000   7675034.98996430  0  \n",
              "4    218.23969000   6430920.95579060  0  \n",
              "..            ...                ... ..  \n",
              "283  188.49371000   5651346.48538860  0  \n",
              "284  222.70389000   6682792.51962990  0  \n",
              "285  299.98897000   9015343.68798670  0  \n",
              "286  604.30381000  18173145.07718920  0  \n",
              "287  287.25296000   8626455.62997420  0  \n",
              "\n",
              "[288 rows x 12 columns]"
            ]
          },
          "execution_count": 52,
          "metadata": {},
          "output_type": "execute_result"
        }
      ],
      "source": [
        "# Convert miliseconds to timestamp\n",
        "df_data[0] = pd.to_datetime(df_data[0], unit='ms')\n",
        "df_data"
      ]
    },
    {
      "cell_type": "code",
      "execution_count": null,
      "id": "b4261e19",
      "metadata": {
        "id": "b4261e19",
        "outputId": "fac848c2-dbd0-4124-f1d5-a289971a8917"
      },
      "outputs": [
        {
          "data": {
            "text/html": [
              "<div>\n",
              "<style scoped>\n",
              "    .dataframe tbody tr th:only-of-type {\n",
              "        vertical-align: middle;\n",
              "    }\n",
              "\n",
              "    .dataframe tbody tr th {\n",
              "        vertical-align: top;\n",
              "    }\n",
              "\n",
              "    .dataframe thead th {\n",
              "        text-align: right;\n",
              "    }\n",
              "</style>\n",
              "<table border=\"1\" class=\"dataframe\">\n",
              "  <thead>\n",
              "    <tr style=\"text-align: right;\">\n",
              "      <th></th>\n",
              "      <th>0</th>\n",
              "      <th>1</th>\n",
              "    </tr>\n",
              "  </thead>\n",
              "  <tbody>\n",
              "    <tr>\n",
              "      <th>0</th>\n",
              "      <td>2023-08-08 13:10:00</td>\n",
              "      <td>29538.98000000</td>\n",
              "    </tr>\n",
              "    <tr>\n",
              "      <th>1</th>\n",
              "      <td>2023-08-08 13:15:00</td>\n",
              "      <td>29578.00000000</td>\n",
              "    </tr>\n",
              "    <tr>\n",
              "      <th>2</th>\n",
              "      <td>2023-08-08 13:20:00</td>\n",
              "      <td>29607.98000000</td>\n",
              "    </tr>\n",
              "    <tr>\n",
              "      <th>3</th>\n",
              "      <td>2023-08-08 13:25:00</td>\n",
              "      <td>29548.67000000</td>\n",
              "    </tr>\n",
              "    <tr>\n",
              "      <th>4</th>\n",
              "      <td>2023-08-08 13:30:00</td>\n",
              "      <td>29494.01000000</td>\n",
              "    </tr>\n",
              "    <tr>\n",
              "      <th>...</th>\n",
              "      <td>...</td>\n",
              "      <td>...</td>\n",
              "    </tr>\n",
              "    <tr>\n",
              "      <th>283</th>\n",
              "      <td>2023-08-09 12:45:00</td>\n",
              "      <td>29949.01000000</td>\n",
              "    </tr>\n",
              "    <tr>\n",
              "      <th>284</th>\n",
              "      <td>2023-08-09 12:50:00</td>\n",
              "      <td>29986.35000000</td>\n",
              "    </tr>\n",
              "    <tr>\n",
              "      <th>285</th>\n",
              "      <td>2023-08-09 12:55:00</td>\n",
              "      <td>29997.65000000</td>\n",
              "    </tr>\n",
              "    <tr>\n",
              "      <th>286</th>\n",
              "      <td>2023-08-09 13:00:00</td>\n",
              "      <td>30076.33000000</td>\n",
              "    </tr>\n",
              "    <tr>\n",
              "      <th>287</th>\n",
              "      <td>2023-08-09 13:05:00</td>\n",
              "      <td>30016.52000000</td>\n",
              "    </tr>\n",
              "  </tbody>\n",
              "</table>\n",
              "<p>288 rows × 2 columns</p>\n",
              "</div>"
            ],
            "text/plain": [
              "                      0               1\n",
              "0   2023-08-08 13:10:00  29538.98000000\n",
              "1   2023-08-08 13:15:00  29578.00000000\n",
              "2   2023-08-08 13:20:00  29607.98000000\n",
              "3   2023-08-08 13:25:00  29548.67000000\n",
              "4   2023-08-08 13:30:00  29494.01000000\n",
              "..                  ...             ...\n",
              "283 2023-08-09 12:45:00  29949.01000000\n",
              "284 2023-08-09 12:50:00  29986.35000000\n",
              "285 2023-08-09 12:55:00  29997.65000000\n",
              "286 2023-08-09 13:00:00  30076.33000000\n",
              "287 2023-08-09 13:05:00  30016.52000000\n",
              "\n",
              "[288 rows x 2 columns]"
            ]
          },
          "execution_count": 53,
          "metadata": {},
          "output_type": "execute_result"
        }
      ],
      "source": [
        "# select the first two columns of the dataframe: date and close price\n",
        "df_data = df_data[[0,1]]\n",
        "df_data"
      ]
    },
    {
      "cell_type": "code",
      "execution_count": null,
      "id": "3b4c8b21",
      "metadata": {
        "id": "3b4c8b21",
        "outputId": "541896f6-1f13-4322-dc1b-e4ecf1c9ca66"
      },
      "outputs": [
        {
          "data": {
            "text/html": [
              "<div>\n",
              "<style scoped>\n",
              "    .dataframe tbody tr th:only-of-type {\n",
              "        vertical-align: middle;\n",
              "    }\n",
              "\n",
              "    .dataframe tbody tr th {\n",
              "        vertical-align: top;\n",
              "    }\n",
              "\n",
              "    .dataframe thead th {\n",
              "        text-align: right;\n",
              "    }\n",
              "</style>\n",
              "<table border=\"1\" class=\"dataframe\">\n",
              "  <thead>\n",
              "    <tr style=\"text-align: right;\">\n",
              "      <th></th>\n",
              "      <th>datetime</th>\n",
              "      <th>close_price</th>\n",
              "    </tr>\n",
              "  </thead>\n",
              "  <tbody>\n",
              "    <tr>\n",
              "      <th>0</th>\n",
              "      <td>2023-08-08 13:10:00</td>\n",
              "      <td>29538.98</td>\n",
              "    </tr>\n",
              "    <tr>\n",
              "      <th>1</th>\n",
              "      <td>2023-08-08 13:15:00</td>\n",
              "      <td>29578.00</td>\n",
              "    </tr>\n",
              "    <tr>\n",
              "      <th>2</th>\n",
              "      <td>2023-08-08 13:20:00</td>\n",
              "      <td>29607.98</td>\n",
              "    </tr>\n",
              "    <tr>\n",
              "      <th>3</th>\n",
              "      <td>2023-08-08 13:25:00</td>\n",
              "      <td>29548.67</td>\n",
              "    </tr>\n",
              "    <tr>\n",
              "      <th>4</th>\n",
              "      <td>2023-08-08 13:30:00</td>\n",
              "      <td>29494.01</td>\n",
              "    </tr>\n",
              "    <tr>\n",
              "      <th>...</th>\n",
              "      <td>...</td>\n",
              "      <td>...</td>\n",
              "    </tr>\n",
              "    <tr>\n",
              "      <th>283</th>\n",
              "      <td>2023-08-09 12:45:00</td>\n",
              "      <td>29949.01</td>\n",
              "    </tr>\n",
              "    <tr>\n",
              "      <th>284</th>\n",
              "      <td>2023-08-09 12:50:00</td>\n",
              "      <td>29986.35</td>\n",
              "    </tr>\n",
              "    <tr>\n",
              "      <th>285</th>\n",
              "      <td>2023-08-09 12:55:00</td>\n",
              "      <td>29997.65</td>\n",
              "    </tr>\n",
              "    <tr>\n",
              "      <th>286</th>\n",
              "      <td>2023-08-09 13:00:00</td>\n",
              "      <td>30076.33</td>\n",
              "    </tr>\n",
              "    <tr>\n",
              "      <th>287</th>\n",
              "      <td>2023-08-09 13:05:00</td>\n",
              "      <td>30016.52</td>\n",
              "    </tr>\n",
              "  </tbody>\n",
              "</table>\n",
              "<p>288 rows × 2 columns</p>\n",
              "</div>"
            ],
            "text/plain": [
              "               datetime  close_price\n",
              "0   2023-08-08 13:10:00     29538.98\n",
              "1   2023-08-08 13:15:00     29578.00\n",
              "2   2023-08-08 13:20:00     29607.98\n",
              "3   2023-08-08 13:25:00     29548.67\n",
              "4   2023-08-08 13:30:00     29494.01\n",
              "..                  ...          ...\n",
              "283 2023-08-09 12:45:00     29949.01\n",
              "284 2023-08-09 12:50:00     29986.35\n",
              "285 2023-08-09 12:55:00     29997.65\n",
              "286 2023-08-09 13:00:00     30076.33\n",
              "287 2023-08-09 13:05:00     30016.52\n",
              "\n",
              "[288 rows x 2 columns]"
            ]
          },
          "execution_count": 54,
          "metadata": {},
          "output_type": "execute_result"
        }
      ],
      "source": [
        "# put column names to each column\n",
        "df_data = df_data.rename(columns={0: 'datetime', 1: 'close_price'})\n",
        "\n",
        "# convert the close_price to float to do math calculations\n",
        "df_data.close_price = df_data.close_price.astype(float)\n",
        "df_data"
      ]
    },
    {
      "cell_type": "code",
      "execution_count": null,
      "id": "36fe8f0c",
      "metadata": {
        "id": "36fe8f0c",
        "outputId": "1d1a326b-59e3-4351-84eb-95d73bd7bf2a"
      },
      "outputs": [
        {
          "data": {
            "text/plain": [
              "<AxesSubplot:>"
            ]
          },
          "execution_count": 55,
          "metadata": {},
          "output_type": "execute_result"
        },
        {
          "data": {
            "image/png": "[encoded data removed]",
            "text/plain": [
              "<Figure size 864x432 with 1 Axes>"
            ]
          },
          "metadata": {},
          "output_type": "display_data"
        }
      ],
      "source": [
        "# review outliers\n",
        "df_data.boxplot(['close_price'])"
      ]
    },
    {
      "cell_type": "code",
      "execution_count": null,
      "id": "0e63d903",
      "metadata": {
        "id": "0e63d903",
        "outputId": "787cf074-f69c-4eae-ccc0-d89777e05715"
      },
      "outputs": [
        {
          "data": {
            "image/png": "[encoded data removed]",
            "text/plain": [
              "<Figure size 864x432 with 1 Axes>"
            ]
          },
          "metadata": {},
          "output_type": "display_data"
        }
      ],
      "source": [
        "# draw linechart\n",
        "plt.plot()\n",
        "plt.plot(df_data.datetime, df_data.close_price)\n",
        "plt.title('BTC Price ($)')\n",
        "plt.xlabel('Dates')\n",
        "plt.ylabel('Amount ($)')\n",
        "plt.rcParams[\"figure.figsize\"] = (12,6)\n",
        "\n",
        "plt.show()"
      ]
    },
    {
      "cell_type": "code",
      "execution_count": null,
      "id": "5efbf3a4",
      "metadata": {
        "id": "5efbf3a4"
      },
      "outputs": [],
      "source": [
        "# cleaning data process\n",
        "df_close_price = df_data['close_price']\n",
        "Q1 = df_close_price.quantile(.25)\n",
        "Q3 = df_close_price.quantile(.75)\n",
        "IIQ = Q3 - Q1\n",
        "lower_limit = Q1 - 1.5 * IIQ\n",
        "upper_limit = Q3 + 1.5 * IIQ\n",
        "df_data_cleaned = df_data.query(f'close_price >= {lower_limit} and close_price <= {upper_limit}')"
      ]
    },
    {
      "cell_type": "code",
      "execution_count": null,
      "id": "13ec1950",
      "metadata": {
        "id": "13ec1950",
        "outputId": "1a059eba-80dc-43ec-8229-96ff63065e02"
      },
      "outputs": [
        {
          "name": "stdout",
          "output_type": "stream",
          "text": [
            "96 33\n"
          ]
        }
      ],
      "source": [
        "# get index of the max close price and the min close price\n",
        "\n",
        "x_date_sell_index = df_data_cleaned['close_price'].idxmax()\n",
        "x_date_buy_index = df_data_cleaned['close_price'].idxmin()\n",
        "print(x_date_sell_index, x_date_buy_index)"
      ]
    },
    {
      "cell_type": "code",
      "execution_count": null,
      "id": "cb9c30e2",
      "metadata": {
        "id": "cb9c30e2",
        "outputId": "c80befa2-fbda-42a6-a2f5-b8b7ef096858"
      },
      "outputs": [
        {
          "name": "stdout",
          "output_type": "stream",
          "text": [
            "2023-08-08 21:10:00 2023-08-08 15:55:00\n"
          ]
        }
      ],
      "source": [
        "# get datetime of the indexes above: min max\n",
        "x_date_sell = df_data_cleaned.loc[x_date_sell_index]['datetime']\n",
        "x_date_buy = df_data_cleaned.loc[x_date_buy_index]['datetime']\n",
        "print(x_date_sell, x_date_buy)"
      ]
    },
    {
      "cell_type": "code",
      "execution_count": null,
      "id": "ddfdbf35",
      "metadata": {
        "id": "ddfdbf35",
        "outputId": "0aaa9d45-0568-4de2-bec4-dd59a5f202b5"
      },
      "outputs": [
        {
          "name": "stdout",
          "output_type": "stream",
          "text": [
            "30000.0 29556.01\n"
          ]
        }
      ],
      "source": [
        "# get price of the indexes above: min max\n",
        "y_price_sell = df_data_cleaned.loc[x_date_sell_index]['close_price']\n",
        "y_price_buy = df_data_cleaned.loc[x_date_buy_index]['close_price']\n",
        "print(y_price_sell, y_price_buy)"
      ]
    },
    {
      "cell_type": "code",
      "execution_count": null,
      "id": "e78e7a8b",
      "metadata": {
        "id": "e78e7a8b",
        "outputId": "5c00eb2f-9e3f-49da-839f-59bedbfe8ba5"
      },
      "outputs": [
        {
          "data": {
            "text/plain": [
              "443.99"
            ]
          },
          "execution_count": 61,
          "metadata": {},
          "output_type": "execute_result"
        }
      ],
      "source": [
        "# best profit: amount you would earn if you would buy and sell in the best moment (green and red line in chart)\n",
        "best_profit = y_price_sell - y_price_buy\n",
        "best_profit = round(best_profit,2)\n",
        "best_profit"
      ]
    },
    {
      "cell_type": "code",
      "execution_count": null,
      "id": "e4c4bfcb",
      "metadata": {
        "id": "e4c4bfcb",
        "outputId": "4afd282c-c4c7-4332-985e-f435d9e8e71a"
      },
      "outputs": [
        {
          "data": {
            "text/plain": [
              "'5h 15m'"
            ]
          },
          "execution_count": 62,
          "metadata": {},
          "output_type": "execute_result"
        }
      ],
      "source": [
        "# best profit time: time you wait to get the best profit (green and red line in chart)\n",
        "best_profit_timedelta = x_date_sell - x_date_buy\n",
        "best_profit_timedelta.seconds\n",
        "best_profit_hours = best_profit_timedelta.seconds // 3600\n",
        "best_profit_minutes = (best_profit_timedelta.seconds % 3600) // 60\n",
        "best_profit_time = f'{best_profit_hours}h {best_profit_minutes}m'\n",
        "best_profit_time"
      ]
    },
    {
      "cell_type": "code",
      "execution_count": null,
      "id": "4ece98fa",
      "metadata": {
        "id": "4ece98fa",
        "outputId": "11f06491-dc95-4c15-a44f-d1a31d663bdc"
      },
      "outputs": [
        {
          "data": {
            "text/plain": [
              "63.42714285714309"
            ]
          },
          "execution_count": 63,
          "metadata": {},
          "output_type": "execute_result"
        }
      ],
      "source": [
        "# positions according to values of dataframe, this works to put a good positions the buy and sell message (y axis)\n",
        "y_interval= (y_price_sell - y_price_buy) / 7\n",
        "y_interval"
      ]
    },
    {
      "cell_type": "code",
      "execution_count": null,
      "id": "3d02bb0a",
      "metadata": {
        "id": "3d02bb0a",
        "outputId": "8263e57c-ce50-49b3-ec21-a8061270c05b"
      },
      "outputs": [
        {
          "name": "stdout",
          "output_type": "stream",
          "text": [
            "2023-08-08 13:15:00 29578.0\n"
          ]
        }
      ],
      "source": [
        "# to draw the initial amount, blue dashed line\n",
        "first_result = df_data_cleaned.iloc[0]\n",
        "print(first_result.datetime, first_result.close_price)"
      ]
    },
    {
      "cell_type": "code",
      "execution_count": null,
      "id": "4a1e28a4",
      "metadata": {
        "id": "4a1e28a4",
        "outputId": "82ab0242-6987-4cc0-f5c9-008e5c0bf3cf"
      },
      "outputs": [
        {
          "name": "stdout",
          "output_type": "stream",
          "text": [
            "2023-08-09 12:55:00 29997.65\n"
          ]
        }
      ],
      "source": [
        "# to draw the end amount, blue dashed line\n",
        "last_result = df_data_cleaned.iloc[-1]\n",
        "print(last_result.datetime, last_result.close_price)"
      ]
    },
    {
      "cell_type": "code",
      "execution_count": null,
      "id": "44d44d05",
      "metadata": {
        "id": "44d44d05"
      },
      "outputs": [],
      "source": [
        "# behavior of the las 24 hrs\n",
        "last_24h_price = last_result.close_price - first_result.close_price\n",
        "last_24h_price = round(last_24h_price,2)\n",
        "if last_24h_price > 0:\n",
        "    last_24h_price_status= 'INCREASED'\n",
        "else:\n",
        "    last_24h_price_status= 'DECREASED'"
      ]
    },
    {
      "cell_type": "code",
      "execution_count": null,
      "id": "ecda02f3",
      "metadata": {
        "id": "ecda02f3",
        "outputId": "05fe7501-32c1-476a-c979-0a4f34cbed43"
      },
      "outputs": [
        {
          "name": "stdout",
          "output_type": "stream",
          "text": [
            "<class 'datetime.date'>\n",
            "2023-08-08 00:00:00\n",
            "Int64Index([], dtype='int64')\n",
            "<class 'datetime.date'>\n",
            "2023-08-09 00:00:00\n",
            "Int64Index([130], dtype='int64')\n"
          ]
        },
        {
          "name": "stderr",
          "output_type": "stream",
          "text": [
            "C:\\Users\\oscar\\AppData\\Local\\Temp\\ipykernel_29980\\3094090554.py:3: SettingWithCopyWarning: \n",
            "A value is trying to be set on a copy of a slice from a DataFrame.\n",
            "Try using .loc[row_indexer,col_indexer] = value instead\n",
            "\n",
            "See the caveats in the documentation: https://pandas.pydata.org/pandas-docs/stable/user_guide/indexing.html#returning-a-view-versus-a-copy\n",
            "  df_data_cleaned['date'] = df_data_cleaned['datetime'].dt.date\n"
          ]
        }
      ],
      "source": [
        "# to get the midnight time in dataframe, It is not drawed in the chart yet\n",
        "from datetime import datetime, time\n",
        "df_data_cleaned['date'] = df_data_cleaned['datetime'].dt.date\n",
        "df_data_cleaned\n",
        "df_dates = df_data_cleaned['date'].drop_duplicates()\n",
        "for dates in df_dates:\n",
        "    print(type(dates))\n",
        "    midnight_date = datetime.combine(dates, datetime.min.time())\n",
        "    print(midnight_date)\n",
        "    index_values = df_data_cleaned[df_data_cleaned['datetime'] == midnight_date].index\n",
        "    print(index_values)\n"
      ]
    },
    {
      "cell_type": "code",
      "execution_count": null,
      "id": "b14f1e64",
      "metadata": {
        "id": "b14f1e64",
        "outputId": "51cafa73-886a-4067-d5a6-28d990c39391"
      },
      "outputs": [
        {
          "data": {
            "image/png": "[encoded data removed]",
            "text/plain": [
              "<Figure size 1080x576 with 1 Axes>"
            ]
          },
          "metadata": {},
          "output_type": "display_data"
        }
      ],
      "source": [
        "# draw the chart\n",
        "from matplotlib.dates import DateFormatter\n",
        "# size of the chart\n",
        "plt.figure(figsize=(15, 8))\n",
        "# to put grid\n",
        "sns.set(style=\"whitegrid\")\n",
        "sns.lineplot(x=df_data_cleaned.datetime, y=df_data_cleaned.close_price)\n",
        "\n",
        "# messages green and red into the chart\n",
        "show_date_sell = f'{x_date_sell.strftime(\"%b\")} {x_date_buy.strftime(\"%a\")}, {x_date_sell.strftime(\"%H\")}:{x_date_buy.strftime(\"%M\")}'\n",
        "show_date_buy = f'{x_date_buy.strftime(\"%b\")} {x_date_buy.strftime(\"%a\")}, {x_date_buy.strftime(\"%H\")} {x_date_buy.strftime(\"%M\")}'\n",
        "\n",
        "# messages in the legend (right side)\n",
        "show_first_result = f'{first_result.datetime.strftime(\"%b\")} {first_result.datetime.strftime(\"%a\")} {first_result.datetime.strftime(\"%H\")}:{first_result.datetime.strftime(\"%M\")}, Price: {first_result.close_price} USD'\n",
        "show_last_result = f'{last_result.datetime.strftime(\"%b\")} {last_result.datetime.strftime(\"%a\")} {last_result.datetime.strftime(\"%H\")}:{last_result.datetime.strftime(\"%M\")}, Price: {last_result.close_price} USD'\n",
        "\n",
        "# title\n",
        "plt.title('Bitcoin - BTC', fontsize=15)\n",
        "\n",
        "# message in the upper left side\n",
        "plt.text(0.01, 1.12, f'In the last 24 hours actions {last_24h_price_status} in {last_24h_price} USD', fontsize=12, ha='left', transform=plt.gca().transAxes)\n",
        "plt.text(0.01, 1.08, f'The best profit: {best_profit} USD, in {best_profit_time} per action', fontsize=12, ha='left', transform=plt.gca().transAxes)\n",
        "\n",
        "# draw lines of the best momento of buy and sell\n",
        "plt.axvline(x=x_date_buy, color='green', linestyle='--')\n",
        "plt.axvline(x=x_date_sell, color='red', linestyle='--')\n",
        "\n",
        "# messages of the buy and sell moment\n",
        "plt.text(\n",
        "    x_date_sell - timedelta(hours=0.5),\n",
        "    y_price_sell - y_interval,\n",
        "    f'SELL: {y_price_sell} \\n {show_date_sell} USD',\n",
        "    fontsize=12,\n",
        "    ha='right',\n",
        "    color = 'red'\n",
        ")\n",
        "\n",
        "plt.text(\n",
        "    x_date_buy - timedelta(hours=0.5),\n",
        "    y_price_buy,\n",
        "    f'BUY: {y_price_buy} \\n {show_date_buy} USD',\n",
        "    fontsize=12,\n",
        "    ha='right',\n",
        "    color = 'green'\n",
        ")\n",
        "\n",
        "# draw first_result 24 hrs ago\n",
        "plt.axvline(x=first_result.datetime, color='blue', linestyle=':', label= f'Now-24h: {show_first_result}')\n",
        "\n",
        "# draw last result of now (5 min of delay aprox)\n",
        "plt.axvline(x=last_result.datetime, color='blue', linestyle=':', label = f'Now: {show_last_result}')\n",
        "\n",
        "# labels for 'x' and 'y' axis\n",
        "plt.ylabel('Close price (USD)', fontsize=14)\n",
        "plt.xlabel('Last Day Time', fontsize=14)\n",
        "\n",
        "# declared legend outside of the chart\n",
        "plt.legend(loc='upper left', bbox_to_anchor=(1.01, 1))\n",
        "\n",
        "# to convert datetime into: Aug Tue 12:08, to better legibility\n",
        "month_day_time = DateFormatter(\"%b %a, %H:%m\")\n",
        "plt.gca().xaxis.set_major_formatter(month_day_time)\n",
        "\n",
        "# to add USD suffix in amounts in y axis\n",
        "plt.gca().yaxis.set_major_formatter('{x:1.2f} USD')\n",
        "\n",
        "# to format x axis to rotate 45 grades and other settings\n",
        "plt.xticks(\n",
        "    rotation=45,\n",
        "    horizontalalignment='right',\n",
        "    fontweight='light',\n",
        "    fontsize='12',\n",
        ")\n",
        "\n",
        "# create the chart\n",
        "plt.show()"
      ]
    }
  ],
  "metadata": {
    "kernelspec": {
      "display_name": "Python 3 (ipykernel)",
      "language": "python",
      "name": "python3"
    },
    "language_info": {
      "codemirror_mode": {
        "name": "ipython",
        "version": 3
      },
      "file_extension": ".py",
      "mimetype": "text/x-python",
      "name": "python",
      "nbconvert_exporter": "python",
      "pygments_lexer": "ipython3",
      "version": "3.9.12"
    },
    "colab": {
      "provenance": [],
      "include_colab_link": true
    }
  },
  "nbformat": 4,
  "nbformat_minor": 5
}