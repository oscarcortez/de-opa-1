{
 "cells": [
  {
   "cell_type": "markdown",
   "metadata": {},
   "source": [
    "# Collecting the data\n",
    "\n",
    "Collecting two types of data through the Binance API using a streaming architecture.\n",
    "\n",
    "Thanks to this API, we can retrieve information on the prices of different markets (BTC-USDT, BTC-ETH, ...). The goal will be to create a generic data retrieval function in order to have data from any market. It will also be necessary to create a pre-processing script to reorganise the data coming out of the stream so that it is clean.\n",
    "\n",
    "Recovering historical data, pre-processed to train our future model"
   ]
  },
  {
   "cell_type": "code",
   "execution_count": null,
   "metadata": {},
   "outputs": [
    {
     "ename": "AttributeError",
     "evalue": "module 'creds' has no attribute 'api_key'",
     "output_type": "error",
     "traceback": [
      "\u001b[0;31m---------------------------------------------------------------------------\u001b[0m",
      "\u001b[0;31mAttributeError\u001b[0m                            Traceback (most recent call last)",
      "\u001b[0;32m<ipython-input-34-e8ca84994de6>\u001b[0m in \u001b[0;36m<module>\u001b[0;34m\u001b[0m\n\u001b[1;32m     10\u001b[0m \u001b[0;34m\u001b[0m\u001b[0m\n\u001b[1;32m     11\u001b[0m \u001b[0;34m\u001b[0m\u001b[0m\n\u001b[0;32m---> 12\u001b[0;31m \u001b[0mprint\u001b[0m\u001b[0;34m(\u001b[0m\u001b[0mcreds\u001b[0m\u001b[0;34m.\u001b[0m\u001b[0mapi_key\u001b[0m\u001b[0;34m)\u001b[0m\u001b[0;34m\u001b[0m\u001b[0;34m\u001b[0m\u001b[0m\n\u001b[0m\u001b[1;32m     13\u001b[0m \u001b[0;31m#client = Client(creds.api_key, creds.api_secret)\u001b[0m\u001b[0;34m\u001b[0m\u001b[0;34m\u001b[0m\u001b[0;34m\u001b[0m\u001b[0m\n",
      "\u001b[0;31mAttributeError\u001b[0m: module 'creds' has no attribute 'api_key'"
     ]
    }
   ],
   "source": [
    "#from binance import Client, ThreadedWebsocketManager, ThreadedDepthCacheManager\n",
    "import pandas as pd\n",
    "from binance.client import Client\n",
    "from binance.enums import *\n",
    "from binance.exceptions import BinanceAPIException, BinanceOrderException\n",
    "from datetime import datetime, timedelta\n",
    "from matplotlib import pyplot as plt\n",
    "import seaborn as sns\n",
    "import creds\n",
    "\n",
    "\n",
    "client = Client(creds.api_key, creds.api_secret)"
   ]
  },
  {
   "cell_type": "code",
   "execution_count": null,
   "metadata": {},
   "outputs": [],
   "source": [
    "timestamp = client._get_earliest_valid_timestamp('BTCUSDT', '1d')\n",
    "bars = client.get_historical_klines('BTCUSDT', '1d', timestamp, limit=1000)\n",
    "for line in bars:\n",
    "    del line[5:]\n",
    "df = pd.DataFrame(bars, columns=['date', 'open', 'high', 'low', 'close'])\n",
    "df.set_index('date', inplace=True)\n",
    "df.index = pd.to_datetime(df.index, unit = 'ms')"
   ]
  },
  {
   "cell_type": "code",
   "execution_count": null,
   "metadata": {},
   "outputs": [],
   "source": [
    "df['open'] = df['open'].astype(float)\n",
    "df['high'] = df['high'].astype(float)\n",
    "df['low'] = df['low'].astype(float)\n",
    "df['close'] = df['close'].astype(float)"
   ]
  },
  {
   "cell_type": "code",
   "execution_count": null,
   "metadata": {},
   "outputs": [],
   "source": [
    "#df[\"close\"].plot(title = 'Bitcoin Price USD', legend = 'close')\n",
    "\n",
    "ax = df[\"close\"].plot(title = 'Bitcoin Price USD')\n",
    "\n",
    "plt.setp(ax,xlabel='date', ylabel='Price')\n",
    "plt.rcParams[\"figure.figsize\"] = (25,3)\n",
    "plt.show()\n"
   ]
  },
  {
   "cell_type": "code",
   "execution_count": null,
   "metadata": {},
   "outputs": [],
   "source": [
    "x_date_sell = df[\"close\"].idxmax()\n",
    "x_date_sell\n",
    "\n",
    "\n",
    "y_price_sell = df.loc[x_date_sell].close\n",
    "y_price_sell"
   ]
  },
  {
   "cell_type": "code",
   "execution_count": null,
   "metadata": {},
   "outputs": [],
   "source": [
    "x_date_buy = df['close'].idxmin()\n",
    "y_price_buy = df.loc[x_date_buy].close\n",
    "y_price_buy"
   ]
  },
  {
   "cell_type": "code",
   "execution_count": null,
   "metadata": {},
   "outputs": [],
   "source": [
    "plt.figure(figsize=(15, 8))\n",
    "sns.lineplot(x=df.index, y=df.close)\n",
    "\n",
    "show_date_sell = f'{x_date_sell.strftime(\"%B\")} {x_date_sell.day}'\n",
    "show_date_buy = f'{x_date_buy.strftime(\"%B\")} {x_date_buy.day}'\n",
    "\n",
    "plt.text(x_date_sell + timedelta(days=15), y_price_sell - 0.012, f'Sell \\n {round(y_price_sell,2)} \\n {show_date_sell}', fontsize=12, ha='center', color = 'red')\n",
    "plt.text(x_date_buy + timedelta(days=15), y_price_buy, f'Buy \\n {round(y_price_buy,2)} \\n {show_date_buy}', fontsize=12, ha='center', color = 'green')\n",
    "\n",
    "plt.axvline(x=x_date_buy, color='green', linestyle='--')\n",
    "plt.axvline(x=x_date_sell, color='red', linestyle='--')\n",
    "plt.xlabel('Years')\n",
    "plt.ylabel('Close price')\n",
    "plt.title('Bitcoin')\n",
    "plt.show()"
   ]
  },
  {
   "cell_type": "code",
   "execution_count": null,
   "metadata": {},
   "outputs": [],
   "source": []
  }
 ],
 "metadata": {
  "kernelspec": {
   "display_name": "base",
   "language": "python",
   "name": "python3"
  },
  "language_info": {
   "codemirror_mode": {
    "name": "ipython",
    "version": 3
   },
   "file_extension": ".py",
   "mimetype": "text/x-python",
   "name": "python",
   "nbconvert_exporter": "python",
   "pygments_lexer": "ipython3",
   "version": "3.8.3"
  },
  "orig_nbformat": 4
 },
 "nbformat": 4,
 "nbformat_minor": 2
}
