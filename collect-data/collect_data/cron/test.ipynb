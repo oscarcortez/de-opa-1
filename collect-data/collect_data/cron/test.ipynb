{
 "cells": [
  {
   "cell_type": "code",
   "execution_count": 95,
   "metadata": {},
   "outputs": [],
   "source": [
    "import schedule\n",
    "import urllib.request, json\n",
    "import time\n",
    "import pandas as pd\n",
    "from binance import Client\n",
    "import creds\n",
    "\n",
    "api_key = 'YG568eGXIhKU3LiO6Vpw0f1W4a3ubPDWYfpfK0Q9aR1ieBuHQjbQY07DoxhcxJQj'\n",
    "api_secret = 'VbyUSTKhTw7UnE64zJ7P7sZ9YnbEZ2852dktQav6UNc8U6Vj7UafuEjTvYmYWhGV'\n",
    "client = Client(api_key, api_secret)"
   ]
  },
  {
   "cell_type": "code",
   "execution_count": 112,
   "metadata": {},
   "outputs": [
    {
     "data": {
      "text/html": [
       "<div>\n",
       "<style scoped>\n",
       "    .dataframe tbody tr th:only-of-type {\n",
       "        vertical-align: middle;\n",
       "    }\n",
       "\n",
       "    .dataframe tbody tr th {\n",
       "        vertical-align: top;\n",
       "    }\n",
       "\n",
       "    .dataframe thead th {\n",
       "        text-align: right;\n",
       "    }\n",
       "</style>\n",
       "<table border=\"1\" class=\"dataframe\">\n",
       "  <thead>\n",
       "    <tr style=\"text-align: right;\">\n",
       "      <th></th>\n",
       "      <th>open_time</th>\n",
       "      <th>open_price</th>\n",
       "      <th>high_price</th>\n",
       "      <th>low_price</th>\n",
       "      <th>close_price</th>\n",
       "      <th>volume</th>\n",
       "      <th>close_time</th>\n",
       "      <th>quote_asset_volume</th>\n",
       "      <th>number_of_trades</th>\n",
       "      <th>taker_buy_base_asset_volume</th>\n",
       "      <th>taker_buy_quote_asset_volume</th>\n",
       "    </tr>\n",
       "  </thead>\n",
       "  <tbody>\n",
       "    <tr>\n",
       "      <th>0</th>\n",
       "      <td>2023-09-25 09:11:00</td>\n",
       "      <td>26126.16</td>\n",
       "      <td>26126.17</td>\n",
       "      <td>26126.16</td>\n",
       "      <td>26126.16</td>\n",
       "      <td>8.69468</td>\n",
       "      <td>2023-09-25 09:11:00</td>\n",
       "      <td>227158.60611</td>\n",
       "      <td>182</td>\n",
       "      <td>0.52816</td>\n",
       "      <td>13798.797947</td>\n",
       "    </tr>\n",
       "  </tbody>\n",
       "</table>\n",
       "</div>"
      ],
      "text/plain": [
       "            open_time  open_price  high_price  low_price  close_price  \\\n",
       "0 2023-09-25 09:11:00    26126.16    26126.17   26126.16     26126.16   \n",
       "\n",
       "    volume          close_time  quote_asset_volume  number_of_trades  \\\n",
       "0  8.69468 2023-09-25 09:11:00        227158.60611               182   \n",
       "\n",
       "   taker_buy_base_asset_volume  taker_buy_quote_asset_volume  \n",
       "0                      0.52816                  13798.797947  "
      ]
     },
     "execution_count": 112,
     "metadata": {},
     "output_type": "execute_result"
    }
   ],
   "source": [
    "bars = client.get_historical_klines('BTCUSDT', Client.KLINE_INTERVAL_1MINUTE, \"1 minute ago UTC\")\n",
    "for line in bars:\n",
    "    del line[11:]\n",
    "df = pd.DataFrame(bars, columns=['open_time', 'open_price', 'high_price', 'low_price', 'close_price', 'volume', 'close_time', 'quote_asset_volume', 'number_of_trades', 'taker_buy_base_asset_volume', 'taker_buy_quote_asset_volume'])\n",
    "\n",
    "df['open_price'] = df['open_price'].astype(float)\n",
    "df['high_price'] = df['high_price'].astype(float)\n",
    "df['low_price'] = df['low_price'].astype(float)\n",
    "df['close_price'] = df['close_price'].astype(float)\n",
    "df['volume'] = df['volume'].astype(float)\n",
    "df['quote_asset_volume'] = df['quote_asset_volume'].astype(float)\n",
    "df['taker_buy_quote_asset_volume'] = df['taker_buy_quote_asset_volume'].astype(float)\n",
    "df['taker_buy_base_asset_volume'] = df['taker_buy_base_asset_volume'].astype(float)\n",
    "df.close_time = pd.to_datetime(df.open_time, unit = 'ms')\n",
    "df.open_time = pd.to_datetime(df.close_time, unit = 'ms')\n",
    "df.tail()"
   ]
  },
  {
   "cell_type": "code",
   "execution_count": 113,
   "metadata": {},
   "outputs": [
    {
     "name": "stdout",
     "output_type": "stream",
     "text": [
      "2023-09-25 11:11:51.166083\n",
      "Amount of currencies: 1\n",
      "BTC Price 26126.16 was inserted.\n"
     ]
    }
   ],
   "source": [
    "import datetime\n",
    "import psycopg2\n",
    "from sqlalchemy import create_engine\n",
    "from sqlalchemy.engine import URL\n",
    "\n",
    "\n",
    "driver= 'postgresql'\n",
    "user= 'postgres'\n",
    "passw= 123456\n",
    "host= 'localhost'\n",
    "port= 5432\n",
    "database= 'opa_binance'\n",
    "\n",
    "\n",
    "url = URL.create(\n",
    "        drivername=driver,\n",
    "        username=user,\n",
    "        password=passw,\n",
    "        host=host,\n",
    "        port=port,\n",
    "        database=database\n",
    "    )\n",
    "\n",
    "engine = create_engine(url= url)\n",
    "\n",
    "\n",
    "df.to_sql('streaming_data', con= engine, index=False, if_exists='append')\n",
    "engine.dispose()\n",
    "\n",
    "print(datetime.datetime.now())\n",
    "print('Amount of currencies: ' + str(len(df)))\n",
    "print('BTC Price', df['close_price'][0], \"was inserted.\")"
   ]
  },
  {
   "cell_type": "code",
   "execution_count": 111,
   "metadata": {},
   "outputs": [
    {
     "name": "stdout",
     "output_type": "stream",
     "text": [
      "26130.08\n"
     ]
    }
   ],
   "source": [
    "print(df['close_price'][0])"
   ]
  },
  {
   "cell_type": "code",
   "execution_count": null,
   "metadata": {},
   "outputs": [],
   "source": []
  }
 ],
 "metadata": {
  "kernelspec": {
   "display_name": "base",
   "language": "python",
   "name": "python3"
  },
  "language_info": {
   "codemirror_mode": {
    "name": "ipython",
    "version": 3
   },
   "file_extension": ".py",
   "mimetype": "text/x-python",
   "name": "python",
   "nbconvert_exporter": "python",
   "pygments_lexer": "ipython3",
   "version": "3.11.4"
  },
  "orig_nbformat": 4
 },
 "nbformat": 4,
 "nbformat_minor": 2
}
